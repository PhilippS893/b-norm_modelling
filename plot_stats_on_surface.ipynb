{
 "cells": [
  {
   "cell_type": "markdown",
   "id": "7bc6e109-44e0-483d-86d4-be2fead74d4b",
   "metadata": {},
   "source": [
    "# Visualize statistics on the inflated brain"
   ]
  },
  {
   "cell_type": "code",
   "execution_count": 1,
   "id": "9b30b55d-2582-49d0-b4e5-aa0055afe3b3",
   "metadata": {},
   "outputs": [
    {
     "name": "stdout",
     "output_type": "stream",
     "text": [
      "Index(['lh_avg', 'lh_L_V1', 'lh_L_MST', 'lh_L_V6', 'lh_L_V2', 'lh_L_V3',\n",
      "       'lh_L_V4', 'lh_L_V8', 'lh_L_4', 'lh_L_3b',\n",
      "       ...\n",
      "       'rh_R_p47r', 'rh_R_TGv', 'rh_R_MBelt', 'rh_R_LBelt', 'rh_R_A4',\n",
      "       'rh_R_STSva', 'rh_R_TE1m', 'rh_R_PI', 'rh_R_a32pr', 'rh_R_p24'],\n",
      "      dtype='object', length=362)\n"
     ]
    }
   ],
   "source": [
    "import os, warnings\n",
    "import pandas as pd\n",
    "import numpy as np\n",
    "import matplotlib as mpl\n",
    "import matplotlib.pyplot as plt\n",
    "import nibabel as nib\n",
    "import seaborn as sns\n",
    "\n",
    "from nilearn import plotting, datasets\n",
    "\n",
    "warnings.filterwarnings(\"ignore\", \"is_categorical_dtype\")\n",
    "warnings.filterwarnings(\"ignore\", \"use_inf_as_na\")\n",
    "\n",
    "model_ids = ['CNorm', 'BNorm']\n",
    "\n",
    "mpl.rcParams['xtick.labelsize'] = 12 \n",
    "mpl.rcParams['ytick.labelsize'] = 12 \n",
    "\n",
    "proj_dir = '/Users/philis/Documents/projects/b-norm_modelling'\n",
    "os.chdir(proj_dir)\n",
    "\n",
    "atlas_to_use = 'glasser'\n",
    "\n",
    "# load the data\n",
    "df_combined_2yr = pd.read_csv(f'data/{atlas_to_use}/combined_features_2yr.csv')\n",
    "df_combined_4yr = pd.read_csv(f'data/{atlas_to_use}/combined_features_4yr.csv')\n",
    "\n",
    "ROI_lbls = df_combined_2yr.columns[15:]\n",
    "\n",
    "model_out_dir = f'model_output/{atlas_to_use}/'\n",
    "stats_out_dir = f'stats/{atlas_to_use}'; os.makedirs(stats_out_dir, exist_ok=True)\n",
    "plot_out_dir = f'plots/{atlas_to_use}'; os.makedirs(plot_out_dir, exist_ok=True)"
   ]
  },
  {
   "cell_type": "markdown",
   "id": "ff5db869-8317-48a2-b6d4-369803d971da",
   "metadata": {},
   "source": [
    "## helper function"
   ]
  },
  {
   "cell_type": "code",
   "execution_count": 2,
   "id": "455865fa-db02-4617-8e29-e227bb78d80a",
   "metadata": {},
   "outputs": [],
   "source": [
    "def plot_on_surface(data, stat, timepoint, vmin, vmax, views=['lateral', 'medial'], plot_out_dir='plots/glasser',\n",
    "                    atlas_to_use='glasser', cmap='coolwarm', use_sym_cbar=True):\n",
    "    # get the parcellations\n",
    "    hcp_file_lh = \"T1stats/HCP/lh.HCPMMP1.annot\"\n",
    "    parcellation_lh_orig, ctab, names = nib.freesurfer.read_annot(hcp_file_lh)\n",
    "\n",
    "    hcp_file_rh = \"T1stats/HCP/rh.HCPMMP1.annot\"\n",
    "    parcellation_rh_orig, ctab, names = nib.freesurfer.read_annot(hcp_file_rh)\n",
    "\n",
    "    # Retrieve fsaverage surface dataset for the plotting background. It contains\n",
    "    # the surface template as pial and inflated version and a sulcal depth maps\n",
    "    # which is used for shading\n",
    "    fsaverage = datasets.fetch_surf_fsaverage(mesh=\"fsaverage\")\n",
    "\n",
    "    parcellation_lh = parcellation_lh_orig.astype(float).copy()\n",
    "    parcellation_rh = parcellation_rh_orig.astype(float).copy()\n",
    "\n",
    "    # this_out_dir = os.path.join(plot_out_dir, stat); os.makedirs(this_out_dir, exist_ok=True)\n",
    "    # print(plot_out_dir)\n",
    "\n",
    "    if np.abs(vmin) > vmax:\n",
    "        vmin = vmin\n",
    "        vmax = np.abs(vmin)\n",
    "    if stat == 'pvals':\n",
    "        data.values = -np.log(data.values)\n",
    "        vmin, vmax = 0, 12\n",
    "    if stat in ['prctDev']:\n",
    "        vmin, vmax = 0, vmax\n",
    "\n",
    "    print(\"Current stat:\", stat, timepoint)\n",
    "    print(any('negative' in sub for sub in [stat, timepoint]))\n",
    "    this_cmap = 'winter' if any('negative' in sub for sub in [stat, timepoint]) else cmap\n",
    "\n",
    "    this_dat = data.values\n",
    "\n",
    "    for i in range(int(len(ROI_lbls) / 2)):\n",
    "\n",
    "        if i == 0:\n",
    "            parcellation_lh[parcellation_lh_orig == i] = np.nan\n",
    "            parcellation_rh[parcellation_rh_orig == i] = np.nan\n",
    "        else:\n",
    "            parcellation_lh[parcellation_lh_orig == i] = this_dat[i]\n",
    "            parcellation_rh[parcellation_rh_orig == i] = this_dat[i + 181]\n",
    "\n",
    "    for v, view in enumerate(views):\n",
    "        fig = plt.figure(figsize=(7, 5))\n",
    "        out_name = os.path.join(plot_out_dir, f'lh_{timepoint}_{view}.png')\n",
    "        a = plotting.plot_surf_stat_map(fsaverage['infl_left'], parcellation_lh, hemi='left', figure=fig,\n",
    "                                        vmin=vmin if stat in ['pvals', 'prctDev'] else None, symmetric_cbar=use_sym_cbar,\n",
    "                                        vmax=vmax, view=view, alpha=0.7, cmap=this_cmap, colorbar=False,\n",
    "                                        bg_map=fsaverage['sulc_left'], bg_on_data=True, darkness=.5)\n",
    "        b = plotting.plot_surf_contours(fsaverage['infl_left'], parcellation_lh_orig, hemi='left', figure=a,\n",
    "                                        colors=['k' for i in range(181)], output_file=out_name)\n",
    "        fig.tight_layout()\n",
    "        plt.close()\n",
    "\n",
    "        fig = plt.figure(figsize=(7, 5))\n",
    "        out_name = os.path.join(plot_out_dir, f'rh_{timepoint}_{view}.png')\n",
    "        a = plotting.plot_surf_stat_map(fsaverage['infl_right'], parcellation_rh, hemi='right', figure=fig,\n",
    "                                        vmin=vmin if stat in ['pvals', 'prct'] else None, symmetric_cbar=use_sym_cbar,\n",
    "                                        vmax=vmax, view=view, alpha=0.7, cmap=this_cmap,\n",
    "                                        colorbar=True if view == 'medial' else False, bg_map=fsaverage['sulc_right'],\n",
    "                                        bg_on_data=True, darkness=.5)\n",
    "        b = plotting.plot_surf_contours(fsaverage['infl_right'], parcellation_rh_orig, hemi='right', figure=a,\n",
    "                                        colors=['k' for i in range(181)], output_file=out_name)\n",
    "        fig.tight_layout()\n",
    "        plt.close()\n"
   ]
  },
  {
   "cell_type": "code",
   "execution_count": 3,
   "id": "13b7b905-84f4-4b97-8312-c5a56629f498",
   "metadata": {},
   "outputs": [],
   "source": [
    "def load_performance_data(model_ids, datasets=['full', 'male', 'female'], timepoints=[\"2yr\", \"4yr\"], suffix=\"w4yr\", use_bspline=True):\n",
    "    dfs = []\n",
    "    bspline_suffix = '_bspline' if use_bspline else ''\n",
    "    for d, ds in enumerate(datasets):\n",
    "        for j, mod in enumerate(model_ids):\n",
    "            for t, tpt in enumerate(timepoints):\n",
    "                try:\n",
    "                    if ds == 'full':\n",
    "                        inter = []\n",
    "                        for s, sex in enumerate([\"male\", \"female\"]):\n",
    "                            inter.append(pd.read_csv(os.path.join(f'model_output/{atlas_to_use}/', f\"{mod}{bspline_suffix}\", ds, \n",
    "                                                          f\"{tpt}_performance_{suffix}.csv\")))\n",
    "                            inter[s]['sex'] = f\"full_{sex}\"\n",
    "                        df = pd.concat(inter)\n",
    "                    else: \n",
    "                        df = pd.read_csv(os.path.join(f'model_output/{atlas_to_use}/', f\"{mod}{bspline_suffix}\", ds, \n",
    "                                                      f\"{tpt}_performance_{suffix}.csv\"))\n",
    "                        df['sex'] = ds\n",
    "                    df['timepoint'] = tpt\n",
    "                    df['dataset'] = ds\n",
    "                    df['model'] = mod\n",
    "                    dfs.append(df)\n",
    "                except:\n",
    "                    print(f\"Warning: {tpt} does not exist for {ds} {mod}\")\n",
    "                    continue\n",
    "    \n",
    "    combined = pd.concat(dfs, axis=0).reset_index(drop=True)\n",
    "    #combined['dRho'] = combined.Rho.sub(combined.groupby(['dataset', 'model', 'timepoint'])['Rho'].transform('mean'))\n",
    "    return combined"
   ]
  },
  {
   "cell_type": "markdown",
   "id": "d6e9807e-f983-4fe0-b228-e8d2d9f120d6",
   "metadata": {},
   "source": [
    "Please note: For some reason some of the RAM is not really freed for a while. At some point it is then freed again, I am not entirely sure when and why."
   ]
  },
  {
   "cell_type": "code",
   "execution_count": null,
   "id": "88e1600e-9ae0-4d19-8f7f-72c500bc4e1a",
   "metadata": {},
   "outputs": [],
   "source": [
    "stat = 'tstat'\n",
    "use_sym_cbar = True\n",
    "use_thresh = False\n",
    "subs = \"f1\"\n",
    "tpt = \"2yr\"\n",
    "\n",
    "# we first load all t-scores and the boolean variable whether a given ROI was significantly different\n",
    "dat = {}\n",
    "sig = {}\n",
    "a = [\"full\", \"full_male\", \"full_female\", \"male\", \"female\"]\n",
    "for i, model_data in enumerate(a):\n",
    "    inter = pd.read_csv(os.path.join(stats_out_dir, 'agesex-vs-thickagesex', f'{model_data}_diff_z_{subs}.csv'), \n",
    "                           usecols=[\"ROI\", \"t\", \"pcorr\", \"tpt\"])\n",
    "    inter = inter[inter.tpt == tpt]\n",
    "    if i == 0:\n",
    "        dat[\"ROI\"] = inter.ROI.values\n",
    "        sig[\"ROI\"] = inter.ROI.values\n",
    "    dat[model_data] = inter.t.values\n",
    "    sig[model_data] = inter.pcorr.values\n",
    "\n",
    "data = pd.DataFrame(dat)\n",
    "sig = pd.DataFrame(sig)\n",
    "\n",
    "vmin, vmax = data.iloc[:, 1:].values.min(), data.iloc[:, 1:].values.max()\n",
    "\n",
    "### no changes necessary below here ###\n",
    "\n",
    "# get the parcellations\n",
    "hcp_file_lh = \"T1stats/HCP/lh.HCPMMP1.annot\"\n",
    "parcellation_lh_orig, ctab, names  = nib.freesurfer.read_annot(hcp_file_lh)\n",
    "\n",
    "hcp_file_rh = \"T1stats/HCP/rh.HCPMMP1.annot\"\n",
    "parcellation_rh_orig, ctab, names  = nib.freesurfer.read_annot(hcp_file_rh)\n",
    "\n",
    "cmap = 'coolwarm'\n",
    "\n",
    "# Retrieve fsaverage surface dataset for the plotting background. It contains\n",
    "# the surface template as pial and inflated version and a sulcal depth maps\n",
    "# which is used for shading\n",
    "fsaverage = datasets.fetch_surf_fsaverage(mesh=\"fsaverage\")\n",
    "\n",
    "parcellation_lh = parcellation_lh_orig.astype(float).copy()\n",
    "parcellation_rh = parcellation_rh_orig.astype(float).copy()\n",
    "\n",
    "if np.abs(vmin) > vmax:\n",
    "    vmax = np.abs(vmin)\n",
    "\n",
    "print(vmin, vmax)\n",
    "\n",
    "for x, col in enumerate(data.columns[1:]):  \n",
    "    \n",
    "    for i in range(int(len(ROI_lbls)/2)):\n",
    "            \n",
    "        if use_thresh:\n",
    "            if sig[col][i]:\n",
    "                parcellation_lh[parcellation_lh_orig == i] = data[col].values[i]\n",
    "            else:\n",
    "                parcellation_lh[parcellation_lh_orig == i] = np.nan\n",
    "                \n",
    "            if sig[col][i+181]:\n",
    "                parcellation_rh[parcellation_rh_orig == i] = data[col].values[i+181]\n",
    "            else:\n",
    "                parcellation_rh[parcellation_rh_orig == i] = np.nan\n",
    "        else:\n",
    "            if i > 0:\n",
    "                parcellation_lh[parcellation_lh_orig == i] = data[col].values[i]\n",
    "                parcellation_rh[parcellation_rh_orig == i] = data[col].values[i+181]\n",
    "    \n",
    "        if i == 0:\n",
    "            parcellation_lh[parcellation_lh_orig == i] = np.nan\n",
    "            parcellation_rh[parcellation_rh_orig == i] = np.nan\n",
    "    \n",
    "\n",
    "    this_out_dir = os.path.join(plot_out_dir, 'agesex-vs-thickagesex', col, subs); os.makedirs(this_out_dir, exist_ok=True)\n",
    "    for v, view in enumerate(['lateral', 'medial']): \n",
    "    \n",
    "        fig = plt.figure(figsize=(7, 5))\n",
    "        out_name = os.path.join(this_out_dir, f'lh_{view}_{tpt}_thresh.png') if use_thresh else os.path.join(this_out_dir, f'lh_{view}_{tpt}.png')\n",
    "        a = plotting.plot_surf_stat_map(fsaverage['infl_left'], parcellation_lh, hemi='left', figure=fig, vmin=vmin if stat in ['pvals', 'prct'] else None, symmetric_cbar=use_sym_cbar, \n",
    "                                        vmax=vmax, view=view, alpha=0.7, cmap=cmap, colorbar=False, bg_map=fsaverage['sulc_left'], bg_on_data=True, darkness=.5)\n",
    "        b = plotting.plot_surf_contours(fsaverage['infl_left'], parcellation_lh_orig, hemi='left', figure=a, colors=['k' for i in range(181)], output_file=out_name)\n",
    "        fig.tight_layout()\n",
    "        plt.close()\n",
    "    \n",
    "        fig = plt.figure(figsize=(7, 5))\n",
    "        out_name = os.path.join(this_out_dir, f'rh_{view}_{tpt}_thresh.png') if use_thresh else os.path.join(this_out_dir, f'rh_{view}_{tpt}.png')\n",
    "        a = plotting.plot_surf_stat_map(fsaverage['infl_right'], parcellation_rh, hemi='right', figure=fig, vmin=vmin if stat in ['pvals', 'prct'] else None, symmetric_cbar=use_sym_cbar,\n",
    "                                        vmax=vmax, view=view, alpha=0.7, cmap=cmap, colorbar=True if view == 'medial' else False, bg_map=fsaverage['sulc_right'], bg_on_data=True, darkness=.5)\n",
    "        b = plotting.plot_surf_contours(fsaverage['infl_right'], parcellation_rh_orig, hemi='right', figure=a, colors=['k' for i in range(181)], output_file=out_name)\n",
    "        fig.tight_layout()\n",
    "        plt.close()\n",
    "\n",
    "os.system(f'say \"done plotting\"');"
   ]
  },
  {
   "cell_type": "markdown",
   "id": "4657bc90-e63b-4e34-9699-8610de1f0782",
   "metadata": {},
   "source": [
    "## association with PDSmean"
   ]
  },
  {
   "cell_type": "code",
   "execution_count": 17,
   "id": "4a9990cc-fa10-44e2-9b26-ac4a03e95fea",
   "metadata": {},
   "outputs": [
    {
     "name": "stdout",
     "output_type": "stream",
     "text": [
      "min: -3.9850811327431472 max: 3.6325181167141407\n"
     ]
    }
   ],
   "source": [
    "datasplits = ['male', 'female']\n",
    "stat = 'tstat'\n",
    "\n",
    "# load the data\n",
    "data = []\n",
    "for d, ds in enumerate(datasplits):\n",
    "    for m, model_id in enumerate(model_ids):\n",
    "        for t, tpt in enumerate([\"2yr\", \"4yr\"]):\n",
    "            a = pd.read_csv(os.path.join(stats_out_dir, model_id, ds, f'asso_pds-z_{tpt}.csv'), usecols=['ROI', stat, 'pfdr', 'sex', 'model', 'timepoint'])\n",
    "            data.append(a)\n",
    "\n",
    "data = pd.concat(data, axis=0)\n",
    "vmin, vmax = data[stat].values.min(), data[stat].values.max()\n",
    "print('min:', vmin, 'max:', vmax)\n",
    "\n",
    "cmap = 'coolwarm'"
   ]
  },
  {
   "cell_type": "code",
   "execution_count": 18,
   "id": "367ce5d9-4d64-467c-acc9-cad381fec63e",
   "metadata": {
    "scrolled": true
   },
   "outputs": [
    {
     "data": {
      "text/html": [
       "<pre style=\"white-space:pre;overflow-x:auto;line-height:normal;font-family:Menlo,'DejaVu Sans Mono',consolas,'Courier New',monospace\"><span style=\"color: #000080; text-decoration-color: #000080; font-weight: bold\">[</span><span style=\"color: #000080; text-decoration-color: #000080\">get_dataset_dir</span><span style=\"color: #000080; text-decoration-color: #000080; font-weight: bold\">]</span> Dataset found in <span style=\"color: #800080; text-decoration-color: #800080\">/Users/philis/nilearn_data/</span><span style=\"color: #ff00ff; text-decoration-color: #ff00ff\">fsaverage</span>\n",
       "</pre>\n"
      ],
      "text/plain": [
       "\u001b[1;34m[\u001b[0m\u001b[34mget_dataset_dir\u001b[0m\u001b[1;34m]\u001b[0m Dataset found in \u001b[35m/Users/philis/nilearn_data/\u001b[0m\u001b[95mfsaverage\u001b[0m\n"
      ]
     },
     "metadata": {},
     "output_type": "display_data"
    },
    {
     "name": "stdout",
     "output_type": "stream",
     "text": [
      "Current stat: tstat 2yr\n",
      "False\n"
     ]
    },
    {
     "name": "stderr",
     "output_type": "stream",
     "text": [
      "/var/folders/f9/sy1dpwfx5vx_30_pgdqd5jmm0000gn/T/ipykernel_25658/1846632969.py:52: UserWarning: hemi='left' was passed with type(roi_map)=<class 'numpy.ndarray'> and type(surf_mesh)=<class 'pathlib.PosixPath'>.\n",
      "This value will be ignored as it is only used when 'roi_map' is a SurfaceImage instance and  / or 'surf_mesh' is a PolyMesh instance.\n",
      "  b = plotting.plot_surf_contours(fsaverage['infl_left'], parcellation_lh_orig, hemi='left', figure=a,\n",
      "/var/folders/f9/sy1dpwfx5vx_30_pgdqd5jmm0000gn/T/ipykernel_25658/1846632969.py:54: UserWarning: This figure includes Axes that are not compatible with tight_layout, so results might be incorrect.\n",
      "  fig.tight_layout()\n",
      "/var/folders/f9/sy1dpwfx5vx_30_pgdqd5jmm0000gn/T/ipykernel_25658/1846632969.py:64: UserWarning: hemi='right' was passed with type(roi_map)=<class 'numpy.ndarray'> and type(surf_mesh)=<class 'pathlib.PosixPath'>.\n",
      "This value will be ignored as it is only used when 'roi_map' is a SurfaceImage instance and  / or 'surf_mesh' is a PolyMesh instance.\n",
      "  b = plotting.plot_surf_contours(fsaverage['infl_right'], parcellation_rh_orig, hemi='right', figure=a,\n",
      "/var/folders/f9/sy1dpwfx5vx_30_pgdqd5jmm0000gn/T/ipykernel_25658/1846632969.py:66: UserWarning: This figure includes Axes that are not compatible with tight_layout, so results might be incorrect.\n",
      "  fig.tight_layout()\n"
     ]
    },
    {
     "data": {
      "text/html": [
       "<pre style=\"white-space:pre;overflow-x:auto;line-height:normal;font-family:Menlo,'DejaVu Sans Mono',consolas,'Courier New',monospace\"><span style=\"color: #000080; text-decoration-color: #000080; font-weight: bold\">[</span><span style=\"color: #000080; text-decoration-color: #000080\">get_dataset_dir</span><span style=\"color: #000080; text-decoration-color: #000080; font-weight: bold\">]</span> Dataset found in <span style=\"color: #800080; text-decoration-color: #800080\">/Users/philis/nilearn_data/</span><span style=\"color: #ff00ff; text-decoration-color: #ff00ff\">fsaverage</span>\n",
       "</pre>\n"
      ],
      "text/plain": [
       "\u001b[1;34m[\u001b[0m\u001b[34mget_dataset_dir\u001b[0m\u001b[1;34m]\u001b[0m Dataset found in \u001b[35m/Users/philis/nilearn_data/\u001b[0m\u001b[95mfsaverage\u001b[0m\n"
      ]
     },
     "metadata": {},
     "output_type": "display_data"
    },
    {
     "name": "stdout",
     "output_type": "stream",
     "text": [
      "Current stat: tstat 4yr\n",
      "False\n"
     ]
    },
    {
     "data": {
      "text/html": [
       "<pre style=\"white-space:pre;overflow-x:auto;line-height:normal;font-family:Menlo,'DejaVu Sans Mono',consolas,'Courier New',monospace\"><span style=\"color: #000080; text-decoration-color: #000080; font-weight: bold\">[</span><span style=\"color: #000080; text-decoration-color: #000080\">get_dataset_dir</span><span style=\"color: #000080; text-decoration-color: #000080; font-weight: bold\">]</span> Dataset found in <span style=\"color: #800080; text-decoration-color: #800080\">/Users/philis/nilearn_data/</span><span style=\"color: #ff00ff; text-decoration-color: #ff00ff\">fsaverage</span>\n",
       "</pre>\n"
      ],
      "text/plain": [
       "\u001b[1;34m[\u001b[0m\u001b[34mget_dataset_dir\u001b[0m\u001b[1;34m]\u001b[0m Dataset found in \u001b[35m/Users/philis/nilearn_data/\u001b[0m\u001b[95mfsaverage\u001b[0m\n"
      ]
     },
     "metadata": {},
     "output_type": "display_data"
    },
    {
     "name": "stdout",
     "output_type": "stream",
     "text": [
      "Current stat: tstat 2yr\n",
      "False\n"
     ]
    },
    {
     "data": {
      "text/html": [
       "<pre style=\"white-space:pre;overflow-x:auto;line-height:normal;font-family:Menlo,'DejaVu Sans Mono',consolas,'Courier New',monospace\"><span style=\"color: #000080; text-decoration-color: #000080; font-weight: bold\">[</span><span style=\"color: #000080; text-decoration-color: #000080\">get_dataset_dir</span><span style=\"color: #000080; text-decoration-color: #000080; font-weight: bold\">]</span> Dataset found in <span style=\"color: #800080; text-decoration-color: #800080\">/Users/philis/nilearn_data/</span><span style=\"color: #ff00ff; text-decoration-color: #ff00ff\">fsaverage</span>\n",
       "</pre>\n"
      ],
      "text/plain": [
       "\u001b[1;34m[\u001b[0m\u001b[34mget_dataset_dir\u001b[0m\u001b[1;34m]\u001b[0m Dataset found in \u001b[35m/Users/philis/nilearn_data/\u001b[0m\u001b[95mfsaverage\u001b[0m\n"
      ]
     },
     "metadata": {},
     "output_type": "display_data"
    },
    {
     "name": "stdout",
     "output_type": "stream",
     "text": [
      "Current stat: tstat 4yr\n",
      "False\n"
     ]
    },
    {
     "data": {
      "text/html": [
       "<pre style=\"white-space:pre;overflow-x:auto;line-height:normal;font-family:Menlo,'DejaVu Sans Mono',consolas,'Courier New',monospace\"><span style=\"color: #000080; text-decoration-color: #000080; font-weight: bold\">[</span><span style=\"color: #000080; text-decoration-color: #000080\">get_dataset_dir</span><span style=\"color: #000080; text-decoration-color: #000080; font-weight: bold\">]</span> Dataset found in <span style=\"color: #800080; text-decoration-color: #800080\">/Users/philis/nilearn_data/</span><span style=\"color: #ff00ff; text-decoration-color: #ff00ff\">fsaverage</span>\n",
       "</pre>\n"
      ],
      "text/plain": [
       "\u001b[1;34m[\u001b[0m\u001b[34mget_dataset_dir\u001b[0m\u001b[1;34m]\u001b[0m Dataset found in \u001b[35m/Users/philis/nilearn_data/\u001b[0m\u001b[95mfsaverage\u001b[0m\n"
      ]
     },
     "metadata": {},
     "output_type": "display_data"
    },
    {
     "name": "stdout",
     "output_type": "stream",
     "text": [
      "Current stat: tstat 2yr\n",
      "False\n"
     ]
    },
    {
     "data": {
      "text/html": [
       "<pre style=\"white-space:pre;overflow-x:auto;line-height:normal;font-family:Menlo,'DejaVu Sans Mono',consolas,'Courier New',monospace\"><span style=\"color: #000080; text-decoration-color: #000080; font-weight: bold\">[</span><span style=\"color: #000080; text-decoration-color: #000080\">get_dataset_dir</span><span style=\"color: #000080; text-decoration-color: #000080; font-weight: bold\">]</span> Dataset found in <span style=\"color: #800080; text-decoration-color: #800080\">/Users/philis/nilearn_data/</span><span style=\"color: #ff00ff; text-decoration-color: #ff00ff\">fsaverage</span>\n",
       "</pre>\n"
      ],
      "text/plain": [
       "\u001b[1;34m[\u001b[0m\u001b[34mget_dataset_dir\u001b[0m\u001b[1;34m]\u001b[0m Dataset found in \u001b[35m/Users/philis/nilearn_data/\u001b[0m\u001b[95mfsaverage\u001b[0m\n"
      ]
     },
     "metadata": {},
     "output_type": "display_data"
    },
    {
     "name": "stdout",
     "output_type": "stream",
     "text": [
      "Current stat: tstat 4yr\n",
      "False\n"
     ]
    },
    {
     "data": {
      "text/html": [
       "<pre style=\"white-space:pre;overflow-x:auto;line-height:normal;font-family:Menlo,'DejaVu Sans Mono',consolas,'Courier New',monospace\"><span style=\"color: #000080; text-decoration-color: #000080; font-weight: bold\">[</span><span style=\"color: #000080; text-decoration-color: #000080\">get_dataset_dir</span><span style=\"color: #000080; text-decoration-color: #000080; font-weight: bold\">]</span> Dataset found in <span style=\"color: #800080; text-decoration-color: #800080\">/Users/philis/nilearn_data/</span><span style=\"color: #ff00ff; text-decoration-color: #ff00ff\">fsaverage</span>\n",
       "</pre>\n"
      ],
      "text/plain": [
       "\u001b[1;34m[\u001b[0m\u001b[34mget_dataset_dir\u001b[0m\u001b[1;34m]\u001b[0m Dataset found in \u001b[35m/Users/philis/nilearn_data/\u001b[0m\u001b[95mfsaverage\u001b[0m\n"
      ]
     },
     "metadata": {},
     "output_type": "display_data"
    },
    {
     "name": "stdout",
     "output_type": "stream",
     "text": [
      "Current stat: tstat 2yr\n",
      "False\n"
     ]
    },
    {
     "data": {
      "text/html": [
       "<pre style=\"white-space:pre;overflow-x:auto;line-height:normal;font-family:Menlo,'DejaVu Sans Mono',consolas,'Courier New',monospace\"><span style=\"color: #000080; text-decoration-color: #000080; font-weight: bold\">[</span><span style=\"color: #000080; text-decoration-color: #000080\">get_dataset_dir</span><span style=\"color: #000080; text-decoration-color: #000080; font-weight: bold\">]</span> Dataset found in <span style=\"color: #800080; text-decoration-color: #800080\">/Users/philis/nilearn_data/</span><span style=\"color: #ff00ff; text-decoration-color: #ff00ff\">fsaverage</span>\n",
       "</pre>\n"
      ],
      "text/plain": [
       "\u001b[1;34m[\u001b[0m\u001b[34mget_dataset_dir\u001b[0m\u001b[1;34m]\u001b[0m Dataset found in \u001b[35m/Users/philis/nilearn_data/\u001b[0m\u001b[95mfsaverage\u001b[0m\n"
      ]
     },
     "metadata": {},
     "output_type": "display_data"
    },
    {
     "name": "stdout",
     "output_type": "stream",
     "text": [
      "Current stat: tstat 4yr\n",
      "False\n"
     ]
    }
   ],
   "source": [
    "threshold = False\n",
    "for d, ds in enumerate(datasplits):\n",
    "    for m, model_id in enumerate(model_ids):\n",
    "        for t, tpt in enumerate([\"2yr\", \"4yr\"]):\n",
    "            in_data = data[(data.model == model_id) & (data.sex == ds) & (data.timepoint==tpt)]\n",
    "            if threshold:\n",
    "                in_data.loc[in_data.pfdr > 0.05, stat] = np.nan\n",
    "                save_dir = os.path.join(plot_out_dir, model_id, ds, f\"{stat}_thresh\")\n",
    "                os.makedirs(save_dir, exist_ok=True)\n",
    "            else:\n",
    "                save_dir = os.path.join(plot_out_dir, model_id, ds, stat)\n",
    "                os.makedirs(save_dir, exist_ok=True)\n",
    "            plot_on_surface(in_data[stat], stat, tpt, vmin, vmax, cmap=cmap, plot_out_dir=save_dir)\n",
    "\n",
    "os.system(f'say \"done plotting\"');"
   ]
  },
  {
   "cell_type": "code",
   "execution_count": null,
   "id": "6d8c8e1b-1d55-4e1c-9afe-39d236d9819f",
   "metadata": {},
   "outputs": [],
   "source": [
    "datasplits = ['male', 'female']\n",
    "stat_val = 'prctDev'\n",
    "stats = ['positive_2yr', 'negative_2yr', 'positive_4yr', 'negative_4yr']\n",
    "\n",
    "cols_to_use = ['ROI', 'positive_2yr', 'negative_2yr', 'positive_4yr', 'negative_4yr']\n",
    "\n",
    "# load the data\n",
    "data = []\n",
    "for d, ds in enumerate(datasplits):\n",
    "    for m, model_id in enumerate(model_ids):\n",
    "        a = pd.read_csv(os.path.join(stats_out_dir, model_id, ds, f'across-subjects_prct-deviators_thresh-1.96.csv'))\n",
    "        a['model'] = model_id\n",
    "        a['sex'] = ds\n",
    "        data.append(a)\n",
    "\n",
    "data = pd.concat(data, axis=0)\n",
    "data_to_use = data[[*cols_to_use, 'model', 'sex']]\n",
    "vmin, vmax = data_to_use.iloc[:, 1:-2].values.min(), data_to_use.iloc[:, 1:-2].values.max()\n",
    "print('min:', vmin, 'max:', vmax)\n",
    "\n",
    "cmap = 'autumn'"
   ]
  },
  {
   "cell_type": "code",
   "execution_count": null,
   "id": "0640308a-add9-488e-ba61-00f491df1a1a",
   "metadata": {
    "scrolled": true
   },
   "outputs": [],
   "source": [
    "for d, ds in enumerate(datasplits):\n",
    "    for m, model_id in enumerate(model_ids):\n",
    "        for s, stat in enumerate(stats):\n",
    "            in_data = data[(data.model == model_id) & (data.sex == ds)]\n",
    "            save_dir = os.path.join(plot_out_dir, model_id, ds, stat_val)\n",
    "            os.makedirs(save_dir, exist_ok=True)\n",
    "            plot_on_surface(in_data[stat], stat_val, stat, vmin, vmax, cmap=cmap, plot_out_dir=save_dir, use_sym_cbar=False)\n",
    "\n",
    "os.system(f'say \"done plotting\"');"
   ]
  },
  {
   "cell_type": "markdown",
   "id": "407b26e7-8ee3-4906-841f-a58c09351ec9",
   "metadata": {},
   "source": [
    "# Performance and other statistics"
   ]
  },
  {
   "cell_type": "code",
   "execution_count": 25,
   "id": "4d107ec9-7966-43f2-92a2-080e5d6d498e",
   "metadata": {},
   "outputs": [
    {
     "name": "stdout",
     "output_type": "stream",
     "text": [
      "             ROI       MSLL        EV      SMSE      RMSE       Rho  \\\n",
      "0         lh_avg  11.205488  0.030973  0.981000  0.074258  0.188967   \n",
      "1        lh_L_V1  -0.014291  0.191483  0.808519  0.109796  0.437939   \n",
      "2       lh_L_MST   0.009943  0.019779  0.980800  0.173800  0.146246   \n",
      "3        lh_L_V6   0.083594  0.042965  1.020238  0.139618  0.210023   \n",
      "4        lh_L_V2   0.249516  0.080922  0.920032  0.113726  0.284508   \n",
      "...          ...        ...       ...       ...       ...       ...   \n",
      "2891  rh_R_STSva  73.265982  0.646680  0.375777  0.092592  0.804204   \n",
      "2892   rh_R_TE1m  63.956875  0.738673  0.296734  0.115340  0.859461   \n",
      "2893     rh_R_PI  27.555086  0.466674  0.534481  0.142764  0.684262   \n",
      "2894  rh_R_a32pr  53.297545  0.626407  0.373853  0.106278  0.792549   \n",
      "2895    rh_R_p24  45.610192  0.635744  0.372482  0.127960  0.798805   \n",
      "\n",
      "              BIC      skew  kurtosis     sex timepoint dataset  model  \n",
      "0    -6757.555228  0.081562  0.369667    male       2yr    male  CNorm  \n",
      "1    -4042.721160  0.294427  0.074290    male       2yr    male  CNorm  \n",
      "2    -1372.778048  0.091409  0.184233    male       2yr    male  CNorm  \n",
      "3    -2465.640501 -0.291509  0.299644    male       2yr    male  CNorm  \n",
      "4    -4039.284966 -0.034054  0.097615    male       2yr    male  CNorm  \n",
      "...           ...       ...       ...     ...       ...     ...    ...  \n",
      "2891 -4847.463692  0.170686  1.229777  female       4yr  female  BNorm  \n",
      "2892 -3900.304795  1.022720  6.446300  female       4yr  female  BNorm  \n",
      "2893 -2698.345474 -0.406843  2.643561  female       4yr  female  BNorm  \n",
      "2894 -3725.720123 -0.155141  1.158275  female       4yr  female  BNorm  \n",
      "2895 -2933.569073  0.136438  3.055413  female       4yr  female  BNorm  \n",
      "\n",
      "[2896 rows x 13 columns]\n",
      "-0.1446017869895606 0.8633254067518455\n"
     ]
    }
   ],
   "source": [
    "data = load_performance_data(model_ids, datasets=['male', 'female'], timepoints=[\"2yr\", \"4yr\"], suffix=\"w4yr\", use_bspline=False)\n",
    "#data = pd.read_csv(os.path.join(stats_out_dir, 'kw_slope.csv'))\n",
    "\n",
    "#data[\"logp\"] = -np.log(data.pval.values)\n",
    "\n",
    "print(data)\n",
    "threshold = False\n",
    "use_sym_cbar = True\n",
    "\n",
    "stat = \"EV\"\n",
    "#cmap = 'autumn'\n",
    "cmap = 'coolwarm'\n",
    "\n",
    "if stat == \"logp\":\n",
    "    vmin, vmax = data[~data[stat].isna()][stat].values.min(), np.floor(data[~data[stat].isna()][stat].values.max())\n",
    "else:\n",
    "    vmin, vmax = data[~data[stat].isna()][stat].values.min(), data[~data[stat].isna()][stat].values.max()\n",
    "\n",
    "    \n",
    "if np.abs(vmin)>vmax:\n",
    "    vmax = np.abs(vmin)\n",
    "if stat in [\"logp\", \"pval\"]:\n",
    "    vmin=0\n",
    "\n",
    "if (vmax > 10) and (stat==\"kurtosis\"):\n",
    "    vmax=10\n",
    "\n",
    "print(vmin, vmax)\n",
    "\n",
    "# CHANGE BACK"
   ]
  },
  {
   "cell_type": "code",
   "execution_count": 26,
   "id": "44d9e1f1-23a2-4721-9167-4c045f89788d",
   "metadata": {
    "scrolled": true
   },
   "outputs": [
    {
     "data": {
      "text/html": [
       "<pre style=\"white-space:pre;overflow-x:auto;line-height:normal;font-family:Menlo,'DejaVu Sans Mono',consolas,'Courier New',monospace\"><span style=\"color: #000080; text-decoration-color: #000080; font-weight: bold\">[</span><span style=\"color: #000080; text-decoration-color: #000080\">get_dataset_dir</span><span style=\"color: #000080; text-decoration-color: #000080; font-weight: bold\">]</span> Dataset found in <span style=\"color: #800080; text-decoration-color: #800080\">/Users/philis/nilearn_data/</span><span style=\"color: #ff00ff; text-decoration-color: #ff00ff\">fsaverage</span>\n",
       "</pre>\n"
      ],
      "text/plain": [
       "\u001b[1;34m[\u001b[0m\u001b[34mget_dataset_dir\u001b[0m\u001b[1;34m]\u001b[0m Dataset found in \u001b[35m/Users/philis/nilearn_data/\u001b[0m\u001b[95mfsaverage\u001b[0m\n"
      ]
     },
     "metadata": {},
     "output_type": "display_data"
    },
    {
     "name": "stdout",
     "output_type": "stream",
     "text": [
      "Current stat: EV 2yr\n",
      "False\n"
     ]
    },
    {
     "name": "stderr",
     "output_type": "stream",
     "text": [
      "/var/folders/f9/sy1dpwfx5vx_30_pgdqd5jmm0000gn/T/ipykernel_25658/1846632969.py:52: UserWarning: hemi='left' was passed with type(roi_map)=<class 'numpy.ndarray'> and type(surf_mesh)=<class 'pathlib.PosixPath'>.\n",
      "This value will be ignored as it is only used when 'roi_map' is a SurfaceImage instance and  / or 'surf_mesh' is a PolyMesh instance.\n",
      "  b = plotting.plot_surf_contours(fsaverage['infl_left'], parcellation_lh_orig, hemi='left', figure=a,\n",
      "/var/folders/f9/sy1dpwfx5vx_30_pgdqd5jmm0000gn/T/ipykernel_25658/1846632969.py:54: UserWarning: This figure includes Axes that are not compatible with tight_layout, so results might be incorrect.\n",
      "  fig.tight_layout()\n",
      "/var/folders/f9/sy1dpwfx5vx_30_pgdqd5jmm0000gn/T/ipykernel_25658/1846632969.py:64: UserWarning: hemi='right' was passed with type(roi_map)=<class 'numpy.ndarray'> and type(surf_mesh)=<class 'pathlib.PosixPath'>.\n",
      "This value will be ignored as it is only used when 'roi_map' is a SurfaceImage instance and  / or 'surf_mesh' is a PolyMesh instance.\n",
      "  b = plotting.plot_surf_contours(fsaverage['infl_right'], parcellation_rh_orig, hemi='right', figure=a,\n",
      "/var/folders/f9/sy1dpwfx5vx_30_pgdqd5jmm0000gn/T/ipykernel_25658/1846632969.py:66: UserWarning: This figure includes Axes that are not compatible with tight_layout, so results might be incorrect.\n",
      "  fig.tight_layout()\n"
     ]
    },
    {
     "data": {
      "text/html": [
       "<pre style=\"white-space:pre;overflow-x:auto;line-height:normal;font-family:Menlo,'DejaVu Sans Mono',consolas,'Courier New',monospace\"><span style=\"color: #000080; text-decoration-color: #000080; font-weight: bold\">[</span><span style=\"color: #000080; text-decoration-color: #000080\">get_dataset_dir</span><span style=\"color: #000080; text-decoration-color: #000080; font-weight: bold\">]</span> Dataset found in <span style=\"color: #800080; text-decoration-color: #800080\">/Users/philis/nilearn_data/</span><span style=\"color: #ff00ff; text-decoration-color: #ff00ff\">fsaverage</span>\n",
       "</pre>\n"
      ],
      "text/plain": [
       "\u001b[1;34m[\u001b[0m\u001b[34mget_dataset_dir\u001b[0m\u001b[1;34m]\u001b[0m Dataset found in \u001b[35m/Users/philis/nilearn_data/\u001b[0m\u001b[95mfsaverage\u001b[0m\n"
      ]
     },
     "metadata": {},
     "output_type": "display_data"
    },
    {
     "name": "stdout",
     "output_type": "stream",
     "text": [
      "Current stat: EV 4yr\n",
      "False\n"
     ]
    },
    {
     "data": {
      "text/html": [
       "<pre style=\"white-space:pre;overflow-x:auto;line-height:normal;font-family:Menlo,'DejaVu Sans Mono',consolas,'Courier New',monospace\"><span style=\"color: #000080; text-decoration-color: #000080; font-weight: bold\">[</span><span style=\"color: #000080; text-decoration-color: #000080\">get_dataset_dir</span><span style=\"color: #000080; text-decoration-color: #000080; font-weight: bold\">]</span> Dataset found in <span style=\"color: #800080; text-decoration-color: #800080\">/Users/philis/nilearn_data/</span><span style=\"color: #ff00ff; text-decoration-color: #ff00ff\">fsaverage</span>\n",
       "</pre>\n"
      ],
      "text/plain": [
       "\u001b[1;34m[\u001b[0m\u001b[34mget_dataset_dir\u001b[0m\u001b[1;34m]\u001b[0m Dataset found in \u001b[35m/Users/philis/nilearn_data/\u001b[0m\u001b[95mfsaverage\u001b[0m\n"
      ]
     },
     "metadata": {},
     "output_type": "display_data"
    },
    {
     "name": "stdout",
     "output_type": "stream",
     "text": [
      "Current stat: EV 2yr\n",
      "False\n"
     ]
    },
    {
     "data": {
      "text/html": [
       "<pre style=\"white-space:pre;overflow-x:auto;line-height:normal;font-family:Menlo,'DejaVu Sans Mono',consolas,'Courier New',monospace\"><span style=\"color: #000080; text-decoration-color: #000080; font-weight: bold\">[</span><span style=\"color: #000080; text-decoration-color: #000080\">get_dataset_dir</span><span style=\"color: #000080; text-decoration-color: #000080; font-weight: bold\">]</span> Dataset found in <span style=\"color: #800080; text-decoration-color: #800080\">/Users/philis/nilearn_data/</span><span style=\"color: #ff00ff; text-decoration-color: #ff00ff\">fsaverage</span>\n",
       "</pre>\n"
      ],
      "text/plain": [
       "\u001b[1;34m[\u001b[0m\u001b[34mget_dataset_dir\u001b[0m\u001b[1;34m]\u001b[0m Dataset found in \u001b[35m/Users/philis/nilearn_data/\u001b[0m\u001b[95mfsaverage\u001b[0m\n"
      ]
     },
     "metadata": {},
     "output_type": "display_data"
    },
    {
     "name": "stdout",
     "output_type": "stream",
     "text": [
      "Current stat: EV 4yr\n",
      "False\n"
     ]
    },
    {
     "data": {
      "text/html": [
       "<pre style=\"white-space:pre;overflow-x:auto;line-height:normal;font-family:Menlo,'DejaVu Sans Mono',consolas,'Courier New',monospace\"><span style=\"color: #000080; text-decoration-color: #000080; font-weight: bold\">[</span><span style=\"color: #000080; text-decoration-color: #000080\">get_dataset_dir</span><span style=\"color: #000080; text-decoration-color: #000080; font-weight: bold\">]</span> Dataset found in <span style=\"color: #800080; text-decoration-color: #800080\">/Users/philis/nilearn_data/</span><span style=\"color: #ff00ff; text-decoration-color: #ff00ff\">fsaverage</span>\n",
       "</pre>\n"
      ],
      "text/plain": [
       "\u001b[1;34m[\u001b[0m\u001b[34mget_dataset_dir\u001b[0m\u001b[1;34m]\u001b[0m Dataset found in \u001b[35m/Users/philis/nilearn_data/\u001b[0m\u001b[95mfsaverage\u001b[0m\n"
      ]
     },
     "metadata": {},
     "output_type": "display_data"
    },
    {
     "name": "stdout",
     "output_type": "stream",
     "text": [
      "Current stat: EV 2yr\n",
      "False\n"
     ]
    },
    {
     "data": {
      "text/html": [
       "<pre style=\"white-space:pre;overflow-x:auto;line-height:normal;font-family:Menlo,'DejaVu Sans Mono',consolas,'Courier New',monospace\"><span style=\"color: #000080; text-decoration-color: #000080; font-weight: bold\">[</span><span style=\"color: #000080; text-decoration-color: #000080\">get_dataset_dir</span><span style=\"color: #000080; text-decoration-color: #000080; font-weight: bold\">]</span> Dataset found in <span style=\"color: #800080; text-decoration-color: #800080\">/Users/philis/nilearn_data/</span><span style=\"color: #ff00ff; text-decoration-color: #ff00ff\">fsaverage</span>\n",
       "</pre>\n"
      ],
      "text/plain": [
       "\u001b[1;34m[\u001b[0m\u001b[34mget_dataset_dir\u001b[0m\u001b[1;34m]\u001b[0m Dataset found in \u001b[35m/Users/philis/nilearn_data/\u001b[0m\u001b[95mfsaverage\u001b[0m\n"
      ]
     },
     "metadata": {},
     "output_type": "display_data"
    },
    {
     "name": "stdout",
     "output_type": "stream",
     "text": [
      "Current stat: EV 4yr\n",
      "False\n"
     ]
    },
    {
     "data": {
      "text/html": [
       "<pre style=\"white-space:pre;overflow-x:auto;line-height:normal;font-family:Menlo,'DejaVu Sans Mono',consolas,'Courier New',monospace\"><span style=\"color: #000080; text-decoration-color: #000080; font-weight: bold\">[</span><span style=\"color: #000080; text-decoration-color: #000080\">get_dataset_dir</span><span style=\"color: #000080; text-decoration-color: #000080; font-weight: bold\">]</span> Dataset found in <span style=\"color: #800080; text-decoration-color: #800080\">/Users/philis/nilearn_data/</span><span style=\"color: #ff00ff; text-decoration-color: #ff00ff\">fsaverage</span>\n",
       "</pre>\n"
      ],
      "text/plain": [
       "\u001b[1;34m[\u001b[0m\u001b[34mget_dataset_dir\u001b[0m\u001b[1;34m]\u001b[0m Dataset found in \u001b[35m/Users/philis/nilearn_data/\u001b[0m\u001b[95mfsaverage\u001b[0m\n"
      ]
     },
     "metadata": {},
     "output_type": "display_data"
    },
    {
     "name": "stdout",
     "output_type": "stream",
     "text": [
      "Current stat: EV 2yr\n",
      "False\n"
     ]
    },
    {
     "data": {
      "text/html": [
       "<pre style=\"white-space:pre;overflow-x:auto;line-height:normal;font-family:Menlo,'DejaVu Sans Mono',consolas,'Courier New',monospace\"><span style=\"color: #000080; text-decoration-color: #000080; font-weight: bold\">[</span><span style=\"color: #000080; text-decoration-color: #000080\">get_dataset_dir</span><span style=\"color: #000080; text-decoration-color: #000080; font-weight: bold\">]</span> Dataset found in <span style=\"color: #800080; text-decoration-color: #800080\">/Users/philis/nilearn_data/</span><span style=\"color: #ff00ff; text-decoration-color: #ff00ff\">fsaverage</span>\n",
       "</pre>\n"
      ],
      "text/plain": [
       "\u001b[1;34m[\u001b[0m\u001b[34mget_dataset_dir\u001b[0m\u001b[1;34m]\u001b[0m Dataset found in \u001b[35m/Users/philis/nilearn_data/\u001b[0m\u001b[95mfsaverage\u001b[0m\n"
      ]
     },
     "metadata": {},
     "output_type": "display_data"
    },
    {
     "name": "stdout",
     "output_type": "stream",
     "text": [
      "Current stat: EV 4yr\n",
      "False\n"
     ]
    }
   ],
   "source": [
    "datasplits = ['male', 'female']\n",
    "for d, ds in enumerate(datasplits):\n",
    "    for m, model_id in enumerate(model_ids):\n",
    "        for t, tpt in enumerate([\"2yr\", \"4yr\"]):\n",
    "            in_data = data[(data.model == model_id) & (data.sex == ds) & (data.timepoint==tpt)]\n",
    "            if threshold:\n",
    "                in_data.loc[in_data.pval > 0.05, stat] = np.nan\n",
    "                save_dir = os.path.join(plot_out_dir, model_id, ds, f\"{stat}_thresh\")\n",
    "                os.makedirs(save_dir, exist_ok=True)\n",
    "            else:\n",
    "                save_dir = os.path.join(plot_out_dir, model_id, ds, stat)\n",
    "                os.makedirs(save_dir, exist_ok=True)\n",
    "            plot_on_surface(in_data[stat], stat, tpt, vmin, vmax, cmap=cmap, plot_out_dir=save_dir, use_sym_cbar=use_sym_cbar)\n",
    "\n",
    "os.system(f'say \"done plotting\"');"
   ]
  },
  {
   "cell_type": "code",
   "execution_count": null,
   "id": "5c4579db-f759-49d8-bc2c-15d424700260",
   "metadata": {
    "scrolled": true
   },
   "outputs": [],
   "source": [
    "# if only 1 timepoint\n",
    "datasplits = ['male', 'female']\n",
    "for d, ds in enumerate(datasplits):\n",
    "    for m, model_id in enumerate(model_ids):\n",
    "        in_data = data[(data.model == model_id) & (data.sex == ds)]\n",
    "        if threshold:\n",
    "            in_data.loc[in_data.pval > 0.05, stat] = np.nan\n",
    "            save_dir = os.path.join(plot_out_dir, model_id, ds, f\"{stat}_thresh\")\n",
    "            os.makedirs(save_dir, exist_ok=True)\n",
    "        else:\n",
    "            save_dir = os.path.join(plot_out_dir, model_id, ds, stat)\n",
    "            os.makedirs(save_dir, exist_ok=True)\n",
    "        plot_on_surface(in_data[stat], stat, 'delta', vmin, vmax, cmap=cmap, plot_out_dir=save_dir, use_sym_cbar=use_sym_cbar)\n",
    "\n",
    "os.system(f'say \"done plotting\"');"
   ]
  },
  {
   "cell_type": "markdown",
   "id": "f5266ea1-91b1-4196-9c55-e61f6c105658",
   "metadata": {},
   "source": [
    "# Label lobes on brain surface"
   ]
  },
  {
   "cell_type": "code",
   "execution_count": 27,
   "id": "695f531a-b872-482e-bc45-73c98e421338",
   "metadata": {},
   "outputs": [],
   "source": [
    "new_lbls = ROI_lbls.tolist().copy()\n",
    "new_lbls.remove(\"lh_avg\")\n",
    "new_lbls.remove(\"rh_avg\")"
   ]
  },
  {
   "cell_type": "code",
   "execution_count": 28,
   "id": "1b8e2c9b-161b-440b-bf21-3aa9ff596354",
   "metadata": {},
   "outputs": [
    {
     "data": {
      "text/html": [
       "<div>\n",
       "<style scoped>\n",
       "    .dataframe tbody tr th:only-of-type {\n",
       "        vertical-align: middle;\n",
       "    }\n",
       "\n",
       "    .dataframe tbody tr th {\n",
       "        vertical-align: top;\n",
       "    }\n",
       "\n",
       "    .dataframe thead th {\n",
       "        text-align: right;\n",
       "    }\n",
       "</style>\n",
       "<table border=\"1\" class=\"dataframe\">\n",
       "  <thead>\n",
       "    <tr style=\"text-align: right;\">\n",
       "      <th></th>\n",
       "      <th>ROI</th>\n",
       "      <th>num</th>\n",
       "      <th>lobe</th>\n",
       "    </tr>\n",
       "  </thead>\n",
       "  <tbody>\n",
       "    <tr>\n",
       "      <th>0</th>\n",
       "      <td>lh_L_V1</td>\n",
       "      <td>16713023</td>\n",
       "      <td>occipital</td>\n",
       "    </tr>\n",
       "    <tr>\n",
       "      <th>1</th>\n",
       "      <td>lh_L_MST</td>\n",
       "      <td>8480566</td>\n",
       "      <td>occipital</td>\n",
       "    </tr>\n",
       "    <tr>\n",
       "      <th>2</th>\n",
       "      <td>lh_L_V6</td>\n",
       "      <td>11685438</td>\n",
       "      <td>occipital</td>\n",
       "    </tr>\n",
       "    <tr>\n",
       "      <th>3</th>\n",
       "      <td>lh_L_V2</td>\n",
       "      <td>15282711</td>\n",
       "      <td>occipital</td>\n",
       "    </tr>\n",
       "    <tr>\n",
       "      <th>4</th>\n",
       "      <td>lh_L_V3</td>\n",
       "      <td>14821391</td>\n",
       "      <td>occipital</td>\n",
       "    </tr>\n",
       "    <tr>\n",
       "      <th>...</th>\n",
       "      <td>...</td>\n",
       "      <td>...</td>\n",
       "      <td>...</td>\n",
       "    </tr>\n",
       "    <tr>\n",
       "      <th>175</th>\n",
       "      <td>rh_R_STSva</td>\n",
       "      <td>2304049</td>\n",
       "      <td>temporal</td>\n",
       "    </tr>\n",
       "    <tr>\n",
       "      <th>176</th>\n",
       "      <td>rh_R_TE1m</td>\n",
       "      <td>3880530</td>\n",
       "      <td>temporal</td>\n",
       "    </tr>\n",
       "    <tr>\n",
       "      <th>177</th>\n",
       "      <td>rh_R_PI</td>\n",
       "      <td>4078465</td>\n",
       "      <td>temporal</td>\n",
       "    </tr>\n",
       "    <tr>\n",
       "      <th>178</th>\n",
       "      <td>rh_R_a32pr</td>\n",
       "      <td>7164312</td>\n",
       "      <td>frontal</td>\n",
       "    </tr>\n",
       "    <tr>\n",
       "      <th>179</th>\n",
       "      <td>rh_R_p24</td>\n",
       "      <td>5319802</td>\n",
       "      <td>cingulate</td>\n",
       "    </tr>\n",
       "  </tbody>\n",
       "</table>\n",
       "<p>360 rows × 3 columns</p>\n",
       "</div>"
      ],
      "text/plain": [
       "            ROI       num       lobe\n",
       "0       lh_L_V1  16713023  occipital\n",
       "1      lh_L_MST   8480566  occipital\n",
       "2       lh_L_V6  11685438  occipital\n",
       "3       lh_L_V2  15282711  occipital\n",
       "4       lh_L_V3  14821391  occipital\n",
       "..          ...       ...        ...\n",
       "175  rh_R_STSva   2304049   temporal\n",
       "176   rh_R_TE1m   3880530   temporal\n",
       "177     rh_R_PI   4078465   temporal\n",
       "178  rh_R_a32pr   7164312    frontal\n",
       "179    rh_R_p24   5319802  cingulate\n",
       "\n",
       "[360 rows x 3 columns]"
      ]
     },
     "execution_count": 28,
     "metadata": {},
     "output_type": "execute_result"
    }
   ],
   "source": [
    "def load_lobe_data(new_label=None):\n",
    "    '''\n",
    "    This function ... TODO\n",
    "    '''\n",
    "    \n",
    "    inter = []\n",
    "    for hemi in ['LH', 'RH']:\n",
    "        df = pd.read_csv(f'manuscript/colortab{hemi}_HCP.csv', delimiter=',')\n",
    "        inter.append(df)\n",
    "\n",
    "    df_lobe = pd.concat(inter)\n",
    "    if new_label is not None:\n",
    "        df_lobe.ROI = new_label\n",
    "\n",
    "    return df_lobe\n",
    "\n",
    "lobe_data = load_lobe_data(new_label=new_lbls)\n",
    "lobe_data"
   ]
  },
  {
   "cell_type": "code",
   "execution_count": 29,
   "id": "f4f238a4-de0d-4e53-b83f-5b0b6aa1c032",
   "metadata": {},
   "outputs": [
    {
     "name": "stderr",
     "output_type": "stream",
     "text": [
      "/var/folders/f9/sy1dpwfx5vx_30_pgdqd5jmm0000gn/T/ipykernel_25658/657926383.py:2: FutureWarning: Downcasting behavior in `replace` is deprecated and will be removed in a future version. To retain the old behavior, explicitly call `result.infer_objects(copy=False)`. To opt-in to the future behavior, set `pd.set_option('future.no_silent_downcasting', True)`\n",
      "  lobe_data.replace(to_replace=lobe_lbls[:-1], value=list(range(1, len(lobe_lbls[:-1])+1)), inplace=True)\n"
     ]
    }
   ],
   "source": [
    "lobe_lbls = lobe_data.lobe.unique()\n",
    "lobe_data.replace(to_replace=lobe_lbls[:-1], value=list(range(1, len(lobe_lbls[:-1])+1)), inplace=True)"
   ]
  },
  {
   "cell_type": "code",
   "execution_count": 30,
   "id": "79411398-022d-4840-8db7-33b87780dd3c",
   "metadata": {},
   "outputs": [
    {
     "data": {
      "text/html": [
       "<pre style=\"white-space:pre;overflow-x:auto;line-height:normal;font-family:Menlo,'DejaVu Sans Mono',consolas,'Courier New',monospace\"><span style=\"color: #000080; text-decoration-color: #000080; font-weight: bold\">[</span><span style=\"color: #000080; text-decoration-color: #000080\">get_dataset_dir</span><span style=\"color: #000080; text-decoration-color: #000080; font-weight: bold\">]</span> Dataset found in <span style=\"color: #800080; text-decoration-color: #800080\">/Users/philis/nilearn_data/</span><span style=\"color: #ff00ff; text-decoration-color: #ff00ff\">fsaverage</span>\n",
       "</pre>\n"
      ],
      "text/plain": [
       "\u001b[1;34m[\u001b[0m\u001b[34mget_dataset_dir\u001b[0m\u001b[1;34m]\u001b[0m Dataset found in \u001b[35m/Users/philis/nilearn_data/\u001b[0m\u001b[95mfsaverage\u001b[0m\n"
      ]
     },
     "metadata": {},
     "output_type": "display_data"
    },
    {
     "name": "stderr",
     "output_type": "stream",
     "text": [
      "/var/folders/f9/sy1dpwfx5vx_30_pgdqd5jmm0000gn/T/ipykernel_25658/2206827102.py:37: UserWarning: hemi='left' was passed with type(roi_map)=<class 'numpy.ndarray'> and type(surf_mesh)=<class 'pathlib.PosixPath'>.\n",
      "This value will be ignored as it is only used when 'roi_map' is a SurfaceImage instance and  / or 'surf_mesh' is a PolyMesh instance.\n",
      "  b = plotting.plot_surf_contours(fsaverage['infl_left'], parcellation_lh_orig, hemi='left', figure=a,\n",
      "/var/folders/f9/sy1dpwfx5vx_30_pgdqd5jmm0000gn/T/ipykernel_25658/2206827102.py:39: UserWarning: This figure includes Axes that are not compatible with tight_layout, so results might be incorrect.\n",
      "  fig.tight_layout()\n",
      "/var/folders/f9/sy1dpwfx5vx_30_pgdqd5jmm0000gn/T/ipykernel_25658/2206827102.py:49: UserWarning: hemi='right' was passed with type(roi_map)=<class 'numpy.ndarray'> and type(surf_mesh)=<class 'pathlib.PosixPath'>.\n",
      "This value will be ignored as it is only used when 'roi_map' is a SurfaceImage instance and  / or 'surf_mesh' is a PolyMesh instance.\n",
      "  b = plotting.plot_surf_contours(fsaverage['infl_right'], parcellation_rh_orig, hemi='right', figure=a,\n",
      "/var/folders/f9/sy1dpwfx5vx_30_pgdqd5jmm0000gn/T/ipykernel_25658/2206827102.py:51: UserWarning: This figure includes Axes that are not compatible with tight_layout, so results might be incorrect.\n",
      "  fig.tight_layout()\n"
     ]
    }
   ],
   "source": [
    "this_outdir = os.path.join(plot_out_dir, 'lobe_def')\n",
    "os.makedirs(this_outdir, exist_ok=True)\n",
    "this_cmap = 'Set2'\n",
    "views=['lateral', 'medial']\n",
    "\n",
    "# get the parcellations\n",
    "hcp_file_lh = \"T1stats/HCP/lh.HCPMMP1.annot\"\n",
    "parcellation_lh_orig, ctab, names = nib.freesurfer.read_annot(hcp_file_lh)\n",
    "\n",
    "hcp_file_rh = \"T1stats/HCP/rh.HCPMMP1.annot\"\n",
    "parcellation_rh_orig, ctab, names = nib.freesurfer.read_annot(hcp_file_rh)\n",
    "\n",
    "# Retrieve fsaverage surface dataset for the plotting background. It contains\n",
    "# the surface template as pial and inflated version and a sulcal depth maps\n",
    "# which is used for shading\n",
    "fsaverage = datasets.fetch_surf_fsaverage(mesh=\"fsaverage\")\n",
    "\n",
    "parcellation_lh = parcellation_lh_orig.astype(float).copy()\n",
    "parcellation_rh = parcellation_rh_orig.astype(float).copy()\n",
    "\n",
    "for i in range(int(len(ROI_lbls) / 2)):\n",
    "\n",
    "    if i == 0:\n",
    "        parcellation_lh[parcellation_lh_orig == i] = np.nan\n",
    "        parcellation_rh[parcellation_rh_orig == i] = np.nan\n",
    "    else:\n",
    "        parcellation_lh[parcellation_lh_orig == i] = lobe_data.iloc[i-1, -1]\n",
    "        parcellation_rh[parcellation_rh_orig == i] = lobe_data.iloc[i-1 + 180, -1]\n",
    "\n",
    "for v, view in enumerate(views):\n",
    "    fig = plt.figure(figsize=(7, 5))\n",
    "    out_name = os.path.join(this_outdir, f'lh_lobes_{view}.png')\n",
    "    a = plotting.plot_surf_stat_map(fsaverage['infl_left'], parcellation_lh, hemi='left', figure=fig,\n",
    "                                    vmin=0, symmetric_cbar=False,\n",
    "                                    vmax=len(lobe_lbls)-1, view=view, alpha=0.7, cmap=this_cmap, colorbar=False,\n",
    "                                    bg_map=fsaverage['sulc_left'], bg_on_data=True, darkness=.5)\n",
    "    b = plotting.plot_surf_contours(fsaverage['infl_left'], parcellation_lh_orig, hemi='left', figure=a,\n",
    "                                    colors=['k' for i in range(181)], output_file=out_name)\n",
    "    fig.tight_layout()\n",
    "    plt.close()\n",
    "\n",
    "    fig = plt.figure(figsize=(7, 5))\n",
    "    out_name = os.path.join(this_outdir, f'rh_lobes_{view}.png')\n",
    "    a = plotting.plot_surf_stat_map(fsaverage['infl_right'], parcellation_rh, hemi='right', figure=fig,\n",
    "                                    vmin=0, symmetric_cbar=False,\n",
    "                                    vmax=len(lobe_lbls)-1, view=view, alpha=0.7, cmap=this_cmap,\n",
    "                                    colorbar=True if view == 'medial' else False, bg_map=fsaverage['sulc_right'],\n",
    "                                    bg_on_data=True, darkness=.5)\n",
    "    b = plotting.plot_surf_contours(fsaverage['infl_right'], parcellation_rh_orig, hemi='right', figure=a,\n",
    "                                    colors=['k' for i in range(181)], output_file=out_name)\n",
    "    fig.tight_layout()\n",
    "    plt.close()"
   ]
  },
  {
   "cell_type": "code",
   "execution_count": null,
   "id": "bf1faf22-30ab-4c2c-a84d-3cdc6533ad16",
   "metadata": {},
   "outputs": [],
   "source": []
  }
 ],
 "metadata": {
  "kernelspec": {
   "display_name": "Python 3 (ipykernel)",
   "language": "python",
   "name": "python3"
  },
  "language_info": {
   "codemirror_mode": {
    "name": "ipython",
    "version": 3
   },
   "file_extension": ".py",
   "mimetype": "text/x-python",
   "name": "python",
   "nbconvert_exporter": "python",
   "pygments_lexer": "ipython3",
   "version": "3.12.9"
  }
 },
 "nbformat": 4,
 "nbformat_minor": 5
}
